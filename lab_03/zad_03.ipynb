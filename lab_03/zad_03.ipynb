{
 "cells": [
  {
   "cell_type": "code",
   "execution_count": null,
   "metadata": {},
   "outputs": [],
   "source": [
    "import random\n",
    "import math \n",
    "import numpy as np\n",
    "import matplotlib.pyplot as plt"
   ]
  },
  {
   "cell_type": "code",
   "execution_count": null,
   "metadata": {},
   "outputs": [],
   "source": [
    "class rectangle:\n",
    "    def __init__(self, bottom_left, top_right):\n",
    "        self.bl = bottom_left\n",
    "        self.br = (top_right[0], bottom_left[1])\n",
    "        self.tl = (bottom_left[0], top_right[1])\n",
    "        self.tr = top_right\n",
    "        self.height = self.tl[1] - self.bl[1] \n",
    "        self.width = self.br[0] - self.bl[0]\n",
    "\n",
    "    def area(self):\n",
    "        return self.height * self.width"
   ]
  },
  {
   "cell_type": "code",
   "execution_count": null,
   "metadata": {},
   "outputs": [],
   "source": [
    "def find_rectangle(start_x, finish_x, function):\n",
    "    if(start_x > finish_x):\n",
    "        raise Exception('Bad integral limits, start>finish')\n",
    "    values = []\n",
    "    for x in np.linspace(start_x, finish_x, 100):\n",
    "        values.append(function(x))\n",
    "    return rectangle((start_x, min(values)), (finish_x, max(values)))"
   ]
  },
  {
   "cell_type": "code",
   "execution_count": null,
   "metadata": {},
   "outputs": [],
   "source": [
    "def monte_carlo(function, left_x, right_x, sample_size):\n",
    "    rect = find_rectangle(left_x, right_x, function)\n",
    "    hit_count = 0\n",
    "    rand_x = []\n",
    "    rand_hit_x = []\n",
    "    rand_hit_y = []\n",
    "    rand_miss_x = []\n",
    "    rand_miss_y = []\n",
    "    func_y = []\n",
    "    for i in range(sample_size):\n",
    "        check_pos = (random.random() * rect.height + rect.bl[0], random.random() * rect.width + rect.bl[1])\n",
    "        func_value = function(check_pos[0])\n",
    "        func_y.append(func_value)\n",
    "        rand_x.append(check_pos[0])\n",
    "        if(check_pos[1] <= func_value):\n",
    "            rand_hit_x.append(check_pos[0])\n",
    "            rand_hit_y.append(check_pos[1])\n",
    "            hit_count += 1\n",
    "        else:\n",
    "            rand_miss_x.append(check_pos[0])\n",
    "            rand_miss_y.append(check_pos[1])\n",
    "\n",
    "    fig, ax = plt.subplots()\n",
    "    ax.scatter(rand_hit_x, rand_hit_y, s = 1, c = '0000FF')\n",
    "    ax.scatter(rand_miss_x, rand_miss_y, s = 1, c = 'FF0000')\n",
    "    ax.plot(rand_x,func_y, c = '00FF00')\n",
    "    plt.show()\n",
    "\n",
    "    hit_ratio = hit_count/sample_size \n",
    "    return rect.area() * hit_ratio"
   ]
  },
  {
   "cell_type": "code",
   "execution_count": null,
   "metadata": {},
   "outputs": [],
   "source": [
    "integral = monte_carlo(lambda x: math.sin(x), 0, 2, 1000)\n",
    "print(integral)"
   ]
  }
 ],
 "metadata": {
  "language_info": {
   "name": "python"
  },
  "orig_nbformat": 4
 },
 "nbformat": 4,
 "nbformat_minor": 2
}
